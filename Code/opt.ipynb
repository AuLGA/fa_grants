{
 "cells": [
  {
   "cell_type": "code",
   "execution_count": 1,
   "id": "c2ad1f81",
   "metadata": {},
   "outputs": [
    {
     "name": "stderr",
     "output_type": "stream",
     "text": [
      "\u001b[32m\u001b[1m  Activating\u001b[22m\u001b[39m project at `/mnt/d/GitHub/fa_grants`\n"
     ]
    }
   ],
   "source": [
    "using Pkg; Pkg.activate(\"..\")"
   ]
  },
  {
   "cell_type": "code",
   "execution_count": 3,
   "id": "66339d81",
   "metadata": {},
   "outputs": [],
   "source": [
    "using XLSX\n",
    "using DataFrames\n",
    "using Optim"
   ]
  },
  {
   "cell_type": "code",
   "execution_count": 11,
   "id": "1269faa4",
   "metadata": {},
   "outputs": [
    {
     "data": {
      "text/html": [
       "<div><div style = \"float: left;\"><span>68×15 DataFrame</span></div><div style = \"float: right;\"><span style = \"font-style: italic;\">43 rows omitted</span></div><div style = \"clear: both;\"></div></div><div class = \"data-frame\" style = \"overflow-x: scroll;\"><table class = \"data-frame\" style = \"margin-bottom: 6px;\"><thead><tr class = \"header\"><th class = \"rowNumber\" style = \"font-weight: bold; text-align: right;\">Row</th><th style = \"text-align: left;\">Council</th><th style = \"text-align: left;\">Population (current year)</th><th style = \"text-align: left;\">Per Capita Minimum Council (PCM)</th><th style = \"text-align: left;\">Total Raw Calc</th><th style = \"text-align: left;\">Per Capita Applied Amount</th><th style = \"text-align: left;\">Per Capita Applied Amount (per head)</th><th style = \"text-align: left;\">Estimated Grant (GPG)</th><th style = \"text-align: left;\">Estimated Grant (per head)</th><th style = \"text-align: left;\">Deficit</th><th style = \"text-align: left;\">Minimum Grant (PC basis)</th><th style = \"text-align: left;\">Raw Allocation</th><th style = \"text-align: left;\">MGC</th><th style = \"text-align: left;\">New Grant</th><th style = \"text-align: left;\">2023 - 2024</th><th style = \"text-align: left;\">Adjustment</th></tr><tr class = \"subheader headerLastRow\"><th class = \"rowNumber\" style = \"font-weight: bold; text-align: right;\"></th><th title = \"Any\" style = \"text-align: left;\">Any</th><th title = \"Any\" style = \"text-align: left;\">Any</th><th title = \"Any\" style = \"text-align: left;\">Any</th><th title = \"Any\" style = \"text-align: left;\">Any</th><th title = \"Any\" style = \"text-align: left;\">Any</th><th title = \"Any\" style = \"text-align: left;\">Any</th><th title = \"Any\" style = \"text-align: left;\">Any</th><th title = \"Any\" style = \"text-align: left;\">Any</th><th title = \"Any\" style = \"text-align: left;\">Any</th><th title = \"Any\" style = \"text-align: left;\">Any</th><th title = \"Any\" style = \"text-align: left;\">Any</th><th title = \"Any\" style = \"text-align: left;\">Any</th><th title = \"Any\" style = \"text-align: left;\">Any</th><th title = \"Any\" style = \"text-align: left;\">Any</th><th title = \"Any\" style = \"text-align: left;\">Any</th></tr></thead><tbody><tr><td class = \"rowNumber\" style = \"font-weight: bold; text-align: right;\">1</td><td style = \"text-align: left;\">Adelaide</td><td style = \"text-align: left;\">27901</td><td style = \"text-align: left;\">PCM</td><td style = \"text-align: left;\">-71481892</td><td style = \"text-align: left;\">710359</td><td style = \"text-align: left;\">25.46</td><td style = \"text-align: left;\">710359</td><td style = \"text-align: left;\">25.46</td><td style = \"text-align: left;\">0</td><td style = \"text-align: left;\">7.10359e5</td><td style = \"text-align: left;\">0</td><td style = \"text-align: left;\">1</td><td style = \"text-align: left;\">7.10359e5</td><td style = \"text-align: left;\">654511</td><td style = \"text-align: left;\">-0.46</td></tr><tr><td class = \"rowNumber\" style = \"font-weight: bold; text-align: right;\">2</td><td style = \"text-align: left;\">Adelaide Hills</td><td style = \"text-align: left;\">41842</td><td style = \"text-align: left;\">PCM</td><td style = \"text-align: left;\">-4454563</td><td style = \"text-align: left;\">1065297</td><td style = \"text-align: left;\">25.46</td><td style = \"text-align: left;\">1065297</td><td style = \"text-align: left;\">25.46</td><td style = \"text-align: left;\">0</td><td style = \"text-align: left;\">1.0653e6</td><td style = \"text-align: left;\">0</td><td style = \"text-align: left;\">1</td><td style = \"text-align: left;\">1.0653e6</td><td style = \"text-align: left;\">1038598</td><td style = \"text-align: left;\">-0.32</td></tr><tr><td class = \"rowNumber\" style = \"font-weight: bold; text-align: right;\">3</td><td style = \"text-align: left;\">Adelaide Plains</td><td style = \"text-align: left;\">10932</td><td style = \"text-align: left;\">-</td><td style = \"text-align: left;\">5052887</td><td style = \"text-align: left;\">1892230</td><td style = \"text-align: left;\">173.09</td><td style = \"text-align: left;\">1717083</td><td style = \"text-align: left;\">157.07</td><td style = \"text-align: left;\">1</td><td style = \"text-align: left;\">2.78329e5</td><td style = \"text-align: left;\">2.22712e6</td><td style = \"text-align: left;\">0</td><td style = \"text-align: left;\">1.88891e6</td><td style = \"text-align: left;\">1560985</td><td style = \"text-align: left;\">-1.7183e5</td></tr><tr><td class = \"rowNumber\" style = \"font-weight: bold; text-align: right;\">4</td><td style = \"text-align: left;\">Alexandrina</td><td style = \"text-align: left;\">30323</td><td style = \"text-align: left;\">-</td><td style = \"text-align: left;\">5057998</td><td style = \"text-align: left;\">1894144</td><td style = \"text-align: left;\">62.47</td><td style = \"text-align: left;\">1844007</td><td style = \"text-align: left;\">60.81</td><td style = \"text-align: left;\">1</td><td style = \"text-align: left;\">7.72024e5</td><td style = \"text-align: left;\">2.22938e6</td><td style = \"text-align: left;\">0</td><td style = \"text-align: left;\">1.89082e6</td><td style = \"text-align: left;\">1819177</td><td style = \"text-align: left;\">-46816.5</td></tr><tr><td class = \"rowNumber\" style = \"font-weight: bold; text-align: right;\">5</td><td style = \"text-align: left;\">Barossa</td><td style = \"text-align: left;\">26268</td><td style = \"text-align: left;\">-</td><td style = \"text-align: left;\">6430573</td><td style = \"text-align: left;\">2408153</td><td style = \"text-align: left;\">91.68</td><td style = \"text-align: left;\">1779006</td><td style = \"text-align: left;\">67.73</td><td style = \"text-align: left;\">1</td><td style = \"text-align: left;\">6.68783e5</td><td style = \"text-align: left;\">2.83436e6</td><td style = \"text-align: left;\">0</td><td style = \"text-align: left;\">2.40393e6</td><td style = \"text-align: left;\">1546962</td><td style = \"text-align: left;\">-6.24925e5</td></tr><tr><td class = \"rowNumber\" style = \"font-weight: bold; text-align: right;\">6</td><td style = \"text-align: left;\">Barunga West</td><td style = \"text-align: left;\">2680</td><td style = \"text-align: left;\">-</td><td style = \"text-align: left;\">488998</td><td style = \"text-align: left;\">183122</td><td style = \"text-align: left;\">68.33</td><td style = \"text-align: left;\">197800</td><td style = \"text-align: left;\">73.81</td><td style = \"text-align: left;\">1</td><td style = \"text-align: left;\">68232.8</td><td style = \"text-align: left;\">2.15532e5</td><td style = \"text-align: left;\">0</td><td style = \"text-align: left;\">1.82801e5</td><td style = \"text-align: left;\">197800</td><td style = \"text-align: left;\">14998.6</td></tr><tr><td class = \"rowNumber\" style = \"font-weight: bold; text-align: right;\">7</td><td style = \"text-align: left;\">Berri Barmera</td><td style = \"text-align: left;\">10730</td><td style = \"text-align: left;\">-</td><td style = \"text-align: left;\">7876569</td><td style = \"text-align: left;\">2949657</td><td style = \"text-align: left;\">274.9</td><td style = \"text-align: left;\">2871580</td><td style = \"text-align: left;\">267.62</td><td style = \"text-align: left;\">1</td><td style = \"text-align: left;\">2.73186e5</td><td style = \"text-align: left;\">3.4717e6</td><td style = \"text-align: left;\">0</td><td style = \"text-align: left;\">2.94449e6</td><td style = \"text-align: left;\">2784617</td><td style = \"text-align: left;\">-72905.6</td></tr><tr><td class = \"rowNumber\" style = \"font-weight: bold; text-align: right;\">8</td><td style = \"text-align: left;\">Burnside</td><td style = \"text-align: left;\">47444</td><td style = \"text-align: left;\">PCM</td><td style = \"text-align: left;\">-41901191</td><td style = \"text-align: left;\">1207924</td><td style = \"text-align: left;\">25.46</td><td style = \"text-align: left;\">1207924</td><td style = \"text-align: left;\">25.46</td><td style = \"text-align: left;\">0</td><td style = \"text-align: left;\">1.20792e6</td><td style = \"text-align: left;\">0</td><td style = \"text-align: left;\">1</td><td style = \"text-align: left;\">1.20792e6</td><td style = \"text-align: left;\">1170001</td><td style = \"text-align: left;\">-0.24</td></tr><tr><td class = \"rowNumber\" style = \"font-weight: bold; text-align: right;\">9</td><td style = \"text-align: left;\">Campbelltown</td><td style = \"text-align: left;\">57160</td><td style = \"text-align: left;\">PCM</td><td style = \"text-align: left;\">-7485035</td><td style = \"text-align: left;\">1455294</td><td style = \"text-align: left;\">25.46</td><td style = \"text-align: left;\">1455294</td><td style = \"text-align: left;\">25.46</td><td style = \"text-align: left;\">0</td><td style = \"text-align: left;\">1.45529e6</td><td style = \"text-align: left;\">0</td><td style = \"text-align: left;\">1</td><td style = \"text-align: left;\">1.45529e6</td><td style = \"text-align: left;\">1403566</td><td style = \"text-align: left;\">0.4</td></tr><tr><td class = \"rowNumber\" style = \"font-weight: bold; text-align: right;\">10</td><td style = \"text-align: left;\">Ceduna</td><td style = \"text-align: left;\">3717</td><td style = \"text-align: left;\">-</td><td style = \"text-align: left;\">6137073</td><td style = \"text-align: left;\">2298242</td><td style = \"text-align: left;\">618.31</td><td style = \"text-align: left;\">2237408</td><td style = \"text-align: left;\">601.94</td><td style = \"text-align: left;\">1</td><td style = \"text-align: left;\">94634.8</td><td style = \"text-align: left;\">2.70499e6</td><td style = \"text-align: left;\">0</td><td style = \"text-align: left;\">2.29421e6</td><td style = \"text-align: left;\">2167559</td><td style = \"text-align: left;\">-56804.5</td></tr><tr><td class = \"rowNumber\" style = \"font-weight: bold; text-align: right;\">11</td><td style = \"text-align: left;\">Charles Sturt</td><td style = \"text-align: left;\">127440</td><td style = \"text-align: left;\">PCM</td><td style = \"text-align: left;\">-32695279</td><td style = \"text-align: left;\">3244622</td><td style = \"text-align: left;\">25.46</td><td style = \"text-align: left;\">3244622</td><td style = \"text-align: left;\">25.46</td><td style = \"text-align: left;\">0</td><td style = \"text-align: left;\">3.24462e6</td><td style = \"text-align: left;\">0</td><td style = \"text-align: left;\">1</td><td style = \"text-align: left;\">3.24462e6</td><td style = \"text-align: left;\">3129875</td><td style = \"text-align: left;\">-0.4</td></tr><tr><td class = \"rowNumber\" style = \"font-weight: bold; text-align: right;\">12</td><td style = \"text-align: left;\">Clare &amp; Gilbert\\nValleys</td><td style = \"text-align: left;\">9405</td><td style = \"text-align: left;\">-</td><td style = \"text-align: left;\">4308988</td><td style = \"text-align: left;\">1613651</td><td style = \"text-align: left;\">171.57</td><td style = \"text-align: left;\">1480609</td><td style = \"text-align: left;\">157.43</td><td style = \"text-align: left;\">1</td><td style = \"text-align: left;\">2.39451e5</td><td style = \"text-align: left;\">1.89924e6</td><td style = \"text-align: left;\">0</td><td style = \"text-align: left;\">1.61082e6</td><td style = \"text-align: left;\">1346008</td><td style = \"text-align: left;\">-1.30213e5</td></tr><tr><td class = \"rowNumber\" style = \"font-weight: bold; text-align: right;\">13</td><td style = \"text-align: left;\">Cleve</td><td style = \"text-align: left;\">1757</td><td style = \"text-align: left;\">-</td><td style = \"text-align: left;\">3541341</td><td style = \"text-align: left;\">1326179</td><td style = \"text-align: left;\">754.8</td><td style = \"text-align: left;\">1302898</td><td style = \"text-align: left;\">741.55</td><td style = \"text-align: left;\">1</td><td style = \"text-align: left;\">44733.2</td><td style = \"text-align: left;\">1.56089e6</td><td style = \"text-align: left;\">0</td><td style = \"text-align: left;\">1.32385e6</td><td style = \"text-align: left;\">1302898</td><td style = \"text-align: left;\">-20956.0</td></tr><tr><td style = \"text-align: right;\">&vellip;</td><td style = \"text-align: right;\">&vellip;</td><td style = \"text-align: right;\">&vellip;</td><td style = \"text-align: right;\">&vellip;</td><td style = \"text-align: right;\">&vellip;</td><td style = \"text-align: right;\">&vellip;</td><td style = \"text-align: right;\">&vellip;</td><td style = \"text-align: right;\">&vellip;</td><td style = \"text-align: right;\">&vellip;</td><td style = \"text-align: right;\">&vellip;</td><td style = \"text-align: right;\">&vellip;</td><td style = \"text-align: right;\">&vellip;</td><td style = \"text-align: right;\">&vellip;</td><td style = \"text-align: right;\">&vellip;</td><td style = \"text-align: right;\">&vellip;</td><td style = \"text-align: right;\">&vellip;</td></tr><tr><td class = \"rowNumber\" style = \"font-weight: bold; text-align: right;\">57</td><td style = \"text-align: left;\">Tea Tree Gully</td><td style = \"text-align: left;\">103685</td><td style = \"text-align: left;\">PCM</td><td style = \"text-align: left;\">1742337</td><td style = \"text-align: left;\">2639820</td><td style = \"text-align: left;\">25.46</td><td style = \"text-align: left;\">2639820</td><td style = \"text-align: left;\">25.46</td><td style = \"text-align: left;\">1</td><td style = \"text-align: left;\">2.63982e6</td><td style = \"text-align: left;\">7.67957e5</td><td style = \"text-align: left;\">1</td><td style = \"text-align: left;\">2.63982e6</td><td style = \"text-align: left;\">2572588</td><td style = \"text-align: left;\">-0.1</td></tr><tr><td class = \"rowNumber\" style = \"font-weight: bold; text-align: right;\">58</td><td style = \"text-align: left;\">Tumby Bay</td><td style = \"text-align: left;\">2906</td><td style = \"text-align: left;\">-</td><td style = \"text-align: left;\">1104617</td><td style = \"text-align: left;\">413662</td><td style = \"text-align: left;\">142.35</td><td style = \"text-align: left;\">481306</td><td style = \"text-align: left;\">165.62</td><td style = \"text-align: left;\">1</td><td style = \"text-align: left;\">73986.8</td><td style = \"text-align: left;\">486874.0</td><td style = \"text-align: left;\">0</td><td style = \"text-align: left;\">4.12937e5</td><td style = \"text-align: left;\">486168</td><td style = \"text-align: left;\">68368.7</td></tr><tr><td class = \"rowNumber\" style = \"font-weight: bold; text-align: right;\">59</td><td style = \"text-align: left;\">Unley</td><td style = \"text-align: left;\">39929</td><td style = \"text-align: left;\">PCM</td><td style = \"text-align: left;\">-34776759</td><td style = \"text-align: left;\">1016592</td><td style = \"text-align: left;\">25.46</td><td style = \"text-align: left;\">1016592</td><td style = \"text-align: left;\">25.46</td><td style = \"text-align: left;\">0</td><td style = \"text-align: left;\">1.01659e6</td><td style = \"text-align: left;\">0</td><td style = \"text-align: left;\">1</td><td style = \"text-align: left;\">1.01659e6</td><td style = \"text-align: left;\">979386</td><td style = \"text-align: left;\">-0.34</td></tr><tr><td class = \"rowNumber\" style = \"font-weight: bold; text-align: right;\">60</td><td style = \"text-align: left;\">Victor Harbor</td><td style = \"text-align: left;\">16869</td><td style = \"text-align: left;\">PCM</td><td style = \"text-align: left;\">667738</td><td style = \"text-align: left;\">250058</td><td style = \"text-align: left;\">14.82</td><td style = \"text-align: left;\">429485</td><td style = \"text-align: left;\">25.46</td><td style = \"text-align: left;\">1</td><td style = \"text-align: left;\">4.29485e5</td><td style = \"text-align: left;\">294314.0</td><td style = \"text-align: left;\">1</td><td style = \"text-align: left;\">4.29485e5</td><td style = \"text-align: left;\">418967</td><td style = \"text-align: left;\">0.26</td></tr><tr><td class = \"rowNumber\" style = \"font-weight: bold; text-align: right;\">61</td><td style = \"text-align: left;\">Wakefield</td><td style = \"text-align: left;\">6958</td><td style = \"text-align: left;\">-</td><td style = \"text-align: left;\">6243472</td><td style = \"text-align: left;\">2338087</td><td style = \"text-align: left;\">336.03</td><td style = \"text-align: left;\">2276198</td><td style = \"text-align: left;\">327.13</td><td style = \"text-align: left;\">1</td><td style = \"text-align: left;\">1.77151e5</td><td style = \"text-align: left;\">2.75189e6</td><td style = \"text-align: left;\">0</td><td style = \"text-align: left;\">2.33399e6</td><td style = \"text-align: left;\">2235918</td><td style = \"text-align: left;\">-57789.4</td></tr><tr><td class = \"rowNumber\" style = \"font-weight: bold; text-align: right;\">62</td><td style = \"text-align: left;\">Walkerville</td><td style = \"text-align: left;\">8420</td><td style = \"text-align: left;\">PCM</td><td style = \"text-align: left;\">-8600802</td><td style = \"text-align: left;\">214373</td><td style = \"text-align: left;\">25.46</td><td style = \"text-align: left;\">214373</td><td style = \"text-align: left;\">25.46</td><td style = \"text-align: left;\">0</td><td style = \"text-align: left;\">2.14373e5</td><td style = \"text-align: left;\">0</td><td style = \"text-align: left;\">1</td><td style = \"text-align: left;\">2.14373e5</td><td style = \"text-align: left;\">204948</td><td style = \"text-align: left;\">-0.2</td></tr><tr><td class = \"rowNumber\" style = \"font-weight: bold; text-align: right;\">63</td><td style = \"text-align: left;\">Wattle Range</td><td style = \"text-align: left;\">12257</td><td style = \"text-align: left;\">-</td><td style = \"text-align: left;\">7268487</td><td style = \"text-align: left;\">2721940</td><td style = \"text-align: left;\">222.07</td><td style = \"text-align: left;\">3199650</td><td style = \"text-align: left;\">261.05</td><td style = \"text-align: left;\">1</td><td style = \"text-align: left;\">3.12063e5</td><td style = \"text-align: left;\">3.20368e6</td><td style = \"text-align: left;\">0</td><td style = \"text-align: left;\">2.71717e6</td><td style = \"text-align: left;\">3298608</td><td style = \"text-align: left;\">4.82483e5</td></tr><tr><td class = \"rowNumber\" style = \"font-weight: bold; text-align: right;\">64</td><td style = \"text-align: left;\">West Torrens</td><td style = \"text-align: left;\">64519</td><td style = \"text-align: left;\">PCM</td><td style = \"text-align: left;\">-20788774</td><td style = \"text-align: left;\">1642654</td><td style = \"text-align: left;\">25.46</td><td style = \"text-align: left;\">1642654</td><td style = \"text-align: left;\">25.46</td><td style = \"text-align: left;\">0</td><td style = \"text-align: left;\">1.64265e6</td><td style = \"text-align: left;\">0</td><td style = \"text-align: left;\">1</td><td style = \"text-align: left;\">1.64265e6</td><td style = \"text-align: left;\">1581275</td><td style = \"text-align: left;\">0.26</td></tr><tr><td class = \"rowNumber\" style = \"font-weight: bold; text-align: right;\">65</td><td style = \"text-align: left;\">Whyalla</td><td style = \"text-align: left;\">21902</td><td style = \"text-align: left;\">-</td><td style = \"text-align: left;\">15713243</td><td style = \"text-align: left;\">5884374</td><td style = \"text-align: left;\">268.67</td><td style = \"text-align: left;\">5728616</td><td style = \"text-align: left;\">261.56</td><td style = \"text-align: left;\">1</td><td style = \"text-align: left;\">5.57625e5</td><td style = \"text-align: left;\">6.92581e6</td><td style = \"text-align: left;\">0</td><td style = \"text-align: left;\">5.87406e6</td><td style = \"text-align: left;\">5254023</td><td style = \"text-align: left;\">-1.45441e5</td></tr><tr><td class = \"rowNumber\" style = \"font-weight: bold; text-align: right;\">66</td><td style = \"text-align: left;\">Wudinna</td><td style = \"text-align: left;\">1161</td><td style = \"text-align: left;\">-</td><td style = \"text-align: left;\">4248089</td><td style = \"text-align: left;\">1590845</td><td style = \"text-align: left;\">1370.24</td><td style = \"text-align: left;\">1548736</td><td style = \"text-align: left;\">1333.97</td><td style = \"text-align: left;\">1</td><td style = \"text-align: left;\">29559.1</td><td style = \"text-align: left;\">1.8724e6</td><td style = \"text-align: left;\">0</td><td style = \"text-align: left;\">1.58806e6</td><td style = \"text-align: left;\">1522154</td><td style = \"text-align: left;\">-39320.5</td></tr><tr><td class = \"rowNumber\" style = \"font-weight: bold; text-align: right;\">67</td><td style = \"text-align: left;\">Yankalilla</td><td style = \"text-align: left;\">6100</td><td style = \"text-align: left;\">-</td><td style = \"text-align: left;\">289390</td><td style = \"text-align: left;\">108372</td><td style = \"text-align: left;\">17.77</td><td style = \"text-align: left;\">227235</td><td style = \"text-align: left;\">37.25</td><td style = \"text-align: left;\">1</td><td style = \"text-align: left;\">155306</td><td style = \"text-align: left;\">1.27552e5</td><td style = \"text-align: left;\">1</td><td style = \"text-align: left;\">155306</td><td style = \"text-align: left;\">239195</td><td style = \"text-align: left;\">71929</td></tr><tr><td class = \"rowNumber\" style = \"font-weight: bold; text-align: right;\">68</td><td style = \"text-align: left;\">Yorke Peninsula</td><td style = \"text-align: left;\">12040</td><td style = \"text-align: left;\">-</td><td style = \"text-align: left;\">3826375</td><td style = \"text-align: left;\">1432920</td><td style = \"text-align: left;\">119.01</td><td style = \"text-align: left;\">1260624</td><td style = \"text-align: left;\">104.7</td><td style = \"text-align: left;\">1</td><td style = \"text-align: left;\">3.06538e5</td><td style = \"text-align: left;\">1.68652e6</td><td style = \"text-align: left;\">0</td><td style = \"text-align: left;\">1.43041e6</td><td style = \"text-align: left;\">1146020</td><td style = \"text-align: left;\">-1.69784e5</td></tr></tbody></table></div>"
      ],
      "text/latex": [
       "\\begin{tabular}{r|cccc}\n",
       "\t& Council & Population (current year) & Per Capita Minimum Council (PCM) & \\\\\n",
       "\t\\hline\n",
       "\t& Any & Any & Any & \\\\\n",
       "\t\\hline\n",
       "\t1 & Adelaide & 27901 & PCM & $\\dots$ \\\\\n",
       "\t2 & Adelaide Hills & 41842 & PCM & $\\dots$ \\\\\n",
       "\t3 & Adelaide Plains & 10932 & - & $\\dots$ \\\\\n",
       "\t4 & Alexandrina & 30323 & - & $\\dots$ \\\\\n",
       "\t5 & Barossa & 26268 & - & $\\dots$ \\\\\n",
       "\t6 & Barunga West & 2680 & - & $\\dots$ \\\\\n",
       "\t7 & Berri Barmera & 10730 & - & $\\dots$ \\\\\n",
       "\t8 & Burnside & 47444 & PCM & $\\dots$ \\\\\n",
       "\t9 & Campbelltown & 57160 & PCM & $\\dots$ \\\\\n",
       "\t10 & Ceduna & 3717 & - & $\\dots$ \\\\\n",
       "\t11 & Charles Sturt & 127440 & PCM & $\\dots$ \\\\\n",
       "\t12 & Clare \\& Gilbert\\textbackslash{}nValleys & 9405 & - & $\\dots$ \\\\\n",
       "\t13 & Cleve & 1757 & - & $\\dots$ \\\\\n",
       "\t14 & Coober Pedy & 1550 & - & $\\dots$ \\\\\n",
       "\t15 & Coorong & 5612 & - & $\\dots$ \\\\\n",
       "\t16 & Copper Coast & 15951 & - & $\\dots$ \\\\\n",
       "\t17 & Elliston & 1041 & - & $\\dots$ \\\\\n",
       "\t18 & Flinders Ranges & 1673 & - & $\\dots$ \\\\\n",
       "\t19 & Franklin Harbour & 1332 & - & $\\dots$ \\\\\n",
       "\t20 & Gawler & 26789 & - & $\\dots$ \\\\\n",
       "\t21 & Goyder & 4132 & - & $\\dots$ \\\\\n",
       "\t22 & Grant & 9044 & - & $\\dots$ \\\\\n",
       "\t23 & Holdfast Bay & 38766 & PCM & $\\dots$ \\\\\n",
       "\t24 & Kangaroo Island & 5125 & - & $\\dots$ \\\\\n",
       "\t$\\dots$ & $\\dots$ & $\\dots$ & $\\dots$ &  \\\\\n",
       "\\end{tabular}\n"
      ],
      "text/plain": [
       "\u001b[1m68×15 DataFrame\u001b[0m\n",
       "\u001b[1m Row \u001b[0m│\u001b[1m Council         \u001b[0m\u001b[1m Population (current year) \u001b[0m\u001b[1m Per Capita Minimum Council \u001b[0m ⋯\n",
       "     │\u001b[90m Any             \u001b[0m\u001b[90m Any                       \u001b[0m\u001b[90m Any                        \u001b[0m ⋯\n",
       "─────┼──────────────────────────────────────────────────────────────────────────\n",
       "   1 │ Adelaide         27901                      PCM                         ⋯\n",
       "   2 │ Adelaide Hills   41842                      PCM\n",
       "   3 │ Adelaide Plains  10932                      -\n",
       "   4 │ Alexandrina      30323                      -\n",
       "   5 │ Barossa          26268                      -                           ⋯\n",
       "   6 │ Barunga West     2680                       -\n",
       "   7 │ Berri Barmera    10730                      -\n",
       "   8 │ Burnside         47444                      PCM\n",
       "  ⋮  │        ⋮                     ⋮                             ⋮            ⋱\n",
       "  62 │ Walkerville      8420                       PCM                         ⋯\n",
       "  63 │ Wattle Range     12257                      -\n",
       "  64 │ West Torrens     64519                      PCM\n",
       "  65 │ Whyalla          21902                      -\n",
       "  66 │ Wudinna          1161                       -                           ⋯\n",
       "  67 │ Yankalilla       6100                       -\n",
       "  68 │ Yorke Peninsula  12040                      -\n",
       "\u001b[36m                                                  13 columns and 53 rows omitted\u001b[0m"
      ]
     },
     "metadata": {},
     "output_type": "display_data"
    }
   ],
   "source": [
    "sa_councils = DataFrame(XLSX.readtable(\"../Data/FA Grants Data Tables - Worked.xlsx\", \"South Australia\"))"
   ]
  },
  {
   "cell_type": "code",
   "execution_count": null,
   "id": "628327a4",
   "metadata": {},
   "outputs": [],
   "source": [
    "G_t = sa_councils[!, [:]"
   ]
  },
  {
   "cell_type": "code",
   "execution_count": 12,
   "id": "e82997d2",
   "metadata": {},
   "outputs": [
    {
     "data": {
      "text/plain": [
       "objective (generic function with 1 method)"
      ]
     },
     "metadata": {},
     "output_type": "display_data"
    }
   ],
   "source": [
    "objective(x) = sum(abs.(x))"
   ]
  },
  {
   "cell_type": "code",
   "execution_count": null,
   "id": "88923050",
   "metadata": {},
   "outputs": [],
   "source": []
  }
 ],
 "metadata": {
  "kernelspec": {
   "display_name": "Julia 1.11.5",
   "language": "julia",
   "name": "julia-1.11"
  },
  "language_info": {
   "file_extension": ".jl",
   "mimetype": "application/julia",
   "name": "julia",
   "version": "1.11.5"
  }
 },
 "nbformat": 4,
 "nbformat_minor": 5
}
