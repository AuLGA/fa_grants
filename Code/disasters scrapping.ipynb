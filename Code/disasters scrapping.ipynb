{
 "cells": [
  {
   "cell_type": "code",
   "execution_count": 1,
   "id": "e17428c5",
   "metadata": {},
   "outputs": [],
   "source": [
    "import pyautogui\n",
    "import requests\n",
    "import pandas as pd"
   ]
  },
  {
   "cell_type": "code",
   "execution_count": 2,
   "id": "90adfdbe",
   "metadata": {},
   "outputs": [],
   "source": [
    "import selenium.webdriver as webdriver\n",
    "from selenium.webdriver.common.by import By"
   ]
  },
  {
   "cell_type": "code",
   "execution_count": 3,
   "id": "4b787948",
   "metadata": {},
   "outputs": [],
   "source": [
    "driver = webdriver.Chrome()"
   ]
  },
  {
   "cell_type": "code",
   "execution_count": 4,
   "id": "5559a58f",
   "metadata": {},
   "outputs": [],
   "source": [
    "driver.get(\"https://www.disasterassist.gov.au/find-a-disaster/australian-disasters\")"
   ]
  },
  {
   "cell_type": "code",
   "execution_count": 5,
   "id": "8324635e",
   "metadata": {},
   "outputs": [],
   "source": [
    "scraped_ = []"
   ]
  },
  {
   "cell_type": "code",
   "execution_count": 6,
   "id": "e953f508",
   "metadata": {},
   "outputs": [],
   "source": [
    "curpage = driver.find_element(by=By.CLASS_NAME, value=\"currentPage\")"
   ]
  },
  {
   "cell_type": "code",
   "execution_count": 7,
   "id": "2e60cca3",
   "metadata": {},
   "outputs": [],
   "source": [
    "while int(curpage.text) <= 38:\n",
    "    #print(curpage.text)\n",
    "    events = driver.find_elements(By.CLASS_NAME, value=\"desk-result\")\n",
    "\n",
    "    for event in events:\n",
    "        data = event.find_elements(By.TAG_NAME, \"td\")\n",
    "\n",
    "        payload = {}\n",
    "\n",
    "        payload[\"start date\"] = data[0].text\n",
    "        payload[\"end date\"] = data[1].text\n",
    "        payload[\"state\"] = data[2].text\n",
    "        payload[\"type\"] = data[3].text\n",
    "        payload[\"link\"] = data[4].find_element(By.TAG_NAME, \"a\").get_attribute(\"href\")\n",
    "        payload[\"title\"] = data[4].find_element(By.TAG_NAME, \"a\").text\n",
    "        payload[\"agrn\"] = data[5].text\n",
    "\n",
    "        scraped_.append(payload)\n",
    "\n",
    "    if int(curpage.text) == 38:\n",
    "        break\n",
    "    next_page = driver.find_element(By.ID, \"btnNext\")\n",
    "    next_page.click()"
   ]
  },
  {
   "cell_type": "code",
   "execution_count": 60,
   "id": "950e29f7",
   "metadata": {},
   "outputs": [],
   "source": [
    "df = pd.DataFrame(scraped_)"
   ]
  },
  {
   "cell_type": "code",
   "execution_count": 61,
   "id": "501f901d",
   "metadata": {},
   "outputs": [],
   "source": [
    "def get_lga_disaster_data(link):\n",
    "    page = driver.get(link)\n",
    "\n",
    "    try:\n",
    "        container = driver.find_element(By.CLASS_NAME, value=\"ms-rtestate-field\")\n",
    "        text_content = container.text\n",
    "    except:\n",
    "        text_content = \"NA\"\n",
    "\n",
    "    try:\n",
    "        lgas = driver.find_element(By.ID, value=\"LGA\")\n",
    "        lgas = [lga.text for lga in lgas.find_elements(By.TAG_NAME, \"li\")]\n",
    "    except: \n",
    "        lgas = [\"No listed LGA\"]\n",
    "\n",
    "    return [text_content, lgas]\n",
    "\n",
    "df[\"scraped\"] = df[\"link\"].apply(get_lga_disaster_data)"
   ]
  },
  {
   "cell_type": "code",
   "execution_count": 74,
   "id": "cf927eed",
   "metadata": {},
   "outputs": [],
   "source": [
    "df[\"content\"] = df[\"scraped\"].apply(lambda x: x[0])\n",
    "df[\"lgas\"] = df[\"scraped\"].apply(lambda x: x[1] if len(x) > 0 else [\"No listed LGA\"])"
   ]
  },
  {
   "cell_type": "code",
   "execution_count": 77,
   "id": "31ff8881",
   "metadata": {},
   "outputs": [],
   "source": [
    "df[\"lgas\"] = df[\"lgas\"].apply(lambda x: x.append(\"No listed LGA\") if len(x) == 0 else x)"
   ]
  },
  {
   "cell_type": "code",
   "execution_count": 82,
   "id": "0da3c892",
   "metadata": {},
   "outputs": [],
   "source": [
    "df = df.explode(\"lgas\", ignore_index=True)"
   ]
  },
  {
   "cell_type": "code",
   "execution_count": 83,
   "id": "e490a119",
   "metadata": {},
   "outputs": [],
   "source": [
    "df.to_excel(\"disasterassist_australia.xlsx\", index=False)"
   ]
  },
  {
   "cell_type": "code",
   "execution_count": null,
   "id": "4e3c3ec1",
   "metadata": {},
   "outputs": [],
   "source": []
  }
 ],
 "metadata": {
  "kernelspec": {
   "display_name": "scrape",
   "language": "python",
   "name": "python3"
  },
  "language_info": {
   "codemirror_mode": {
    "name": "ipython",
    "version": 3
   },
   "file_extension": ".py",
   "mimetype": "text/x-python",
   "name": "python",
   "nbconvert_exporter": "python",
   "pygments_lexer": "ipython3",
   "version": "3.13.3"
  }
 },
 "nbformat": 4,
 "nbformat_minor": 5
}
