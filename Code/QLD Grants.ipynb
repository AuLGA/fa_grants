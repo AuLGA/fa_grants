{
 "cells": [
  {
   "cell_type": "code",
   "execution_count": 84,
   "id": "650776d4",
   "metadata": {},
   "outputs": [],
   "source": [
    "import pandas as pd"
   ]
  },
  {
   "cell_type": "code",
   "execution_count": 96,
   "id": "8742ce08",
   "metadata": {},
   "outputs": [],
   "source": [
    "qld = pd.read_excel(\"../Data/QLD FA Grants Data Tables.xlsx\", sheet_name=None)"
   ]
  },
  {
   "cell_type": "code",
   "execution_count": 97,
   "id": "b2b72d6b",
   "metadata": {},
   "outputs": [
    {
     "data": {
      "text/plain": [
       "dict_keys(['Grants', 'ERP', 'Revenue', 'Water', 'Value', 'Multipliers'])"
      ]
     },
     "execution_count": 97,
     "metadata": {},
     "output_type": "execute_result"
    }
   ],
   "source": [
    "qld.keys()"
   ]
  },
  {
   "cell_type": "code",
   "execution_count": 98,
   "id": "948843d3",
   "metadata": {},
   "outputs": [],
   "source": [
    "grants = qld[\"Grants\"]\n",
    "erp = qld[\"ERP\"]\n",
    "revenue = qld[\"Revenue\"]\n",
    "water = qld[\"Water\"]\n",
    "value = qld[\"Value\"]\n",
    "multipliers = qld[\"Multipliers\"]"
   ]
  },
  {
   "cell_type": "code",
   "execution_count": 99,
   "id": "bd76afa1",
   "metadata": {},
   "outputs": [],
   "source": [
    "for df in [grants, erp, revenue, water, value, multipliers]:\n",
    "    df.set_index(\"Council\", inplace=True)"
   ]
  },
  {
   "cell_type": "code",
   "execution_count": 100,
   "id": "c9b8c99b",
   "metadata": {},
   "outputs": [],
   "source": [
    "qld = pd.concat([grants, erp, multipliers], axis=1)"
   ]
  },
  {
   "cell_type": "code",
   "execution_count": 101,
   "id": "2ebb9a24",
   "metadata": {},
   "outputs": [
    {
     "name": "stdout",
     "output_type": "stream",
     "text": [
      "<class 'pandas.core.frame.DataFrame'>\n",
      "Index: 77 entries, Aurukun Shire Council to Yarrabah Aboriginal Shire Council\n",
      "Data columns (total 17 columns):\n",
      " #   Column                           Non-Null Count  Dtype  \n",
      "---  ------                           --------------  -----  \n",
      " 0   2024-25 GPG\n",
      "entitlement          77 non-null     int64  \n",
      " 1   Cash\n",
      "adjustment\n",
      "(for 2023-24)    77 non-null     int64  \n",
      " 2   2024-25\n",
      "Total cash\n",
      "GPG           77 non-null     int64  \n",
      " 3   2024-25 IRG\n",
      "Entitlement          77 non-null     int64  \n",
      " 4   Cash\n",
      "adjustment\n",
      "(for 2023-24)_1  77 non-null     int64  \n",
      " 5   2024-25\n",
      "Total cash\n",
      "IRG           77 non-null     int64  \n",
      " 6   2024-25\n",
      "Cash FA\n",
      "Grant            77 non-null     int64  \n",
      " 7   Segment                          77 non-null     object \n",
      " 8   In year\n",
      "population               77 non-null     int64  \n",
      " 9   5-year\n",
      "average\n",
      "population        77 non-null     int64  \n",
      " 10  Indigenous\n",
      "population            77 non-null     int64  \n",
      " 11  Segment uplift                   77 non-null     float64\n",
      " 12  Weighted average ARIA            77 non-null     float64\n",
      " 13  Indigenous %                     77 non-null     float64\n",
      " 14  Advantage and disadvantage       77 non-null     float64\n",
      " 15  Dispersion                       77 non-null     float64\n",
      " 16  Total multiplier                 77 non-null     float64\n",
      "dtypes: float64(6), int64(10), object(1)\n",
      "memory usage: 10.8+ KB\n"
     ]
    }
   ],
   "source": [
    "qld.info()"
   ]
  },
  {
   "cell_type": "code",
   "execution_count": 102,
   "id": "0b3dfdfa",
   "metadata": {},
   "outputs": [],
   "source": [
    "qld.replace({\n",
    "    \"-\": 0,\n",
    "    \",\": \"\"\n",
    "}, regex=True, inplace=True)"
   ]
  },
  {
   "cell_type": "code",
   "execution_count": 103,
   "id": "457f9abf",
   "metadata": {},
   "outputs": [],
   "source": [
    "for col in qld.columns:\n",
    "    if col not in [\"Council\", \"Segment\"]:\n",
    "        qld[col] = pd.to_numeric(qld[col], errors=\"coerce\")"
   ]
  },
  {
   "cell_type": "code",
   "execution_count": 104,
   "id": "d6a5a4ff",
   "metadata": {},
   "outputs": [],
   "source": [
    "sub = qld.loc[qld[\"Segment\"] == \"Minimum Grant\"]"
   ]
  },
  {
   "cell_type": "code",
   "execution_count": 105,
   "id": "49d37e8a",
   "metadata": {},
   "outputs": [
    {
     "data": {
      "text/plain": [
       "Index(['2024-25 GPG\\nentitlement', 'Cash\\nadjustment\\n(for 2023-24)',\n",
       "       '2024-25\\nTotal cash\\nGPG', '2024-25 IRG\\nEntitlement',\n",
       "       'Cash\\nadjustment\\n(for 2023-24)_1', '2024-25\\nTotal cash\\nIRG',\n",
       "       '2024-25\\nCash FA\\nGrant', 'Segment', 'In year\\npopulation',\n",
       "       '5-year\\naverage\\npopulation', 'Indigenous\\npopulation',\n",
       "       'Segment uplift', 'Weighted average ARIA', 'Indigenous %',\n",
       "       'Advantage and disadvantage', 'Dispersion', 'Total multiplier'],\n",
       "      dtype='object')"
      ]
     },
     "execution_count": 105,
     "metadata": {},
     "output_type": "execute_result"
    }
   ],
   "source": [
    "sub.columns"
   ]
  },
  {
   "cell_type": "code",
   "execution_count": 106,
   "id": "44d065cf",
   "metadata": {},
   "outputs": [
    {
     "data": {
      "text/plain": [
       "Council\n",
       "Brisbane City Council              25.598239\n",
       "Bundaberg Regional Council         25.598237\n",
       "Cairns Regional Council            25.598239\n",
       "Fraser Coast Regional Council      25.598236\n",
       "Gold Coast City Council            25.598239\n",
       "Ipswich City Council               25.598237\n",
       "Logan City Council                 25.598238\n",
       "Mackay Regional Council            25.598241\n",
       "Moreton Bay Regional Council       25.598239\n",
       "Noosa Shire Council                25.598232\n",
       "Redland City Council               25.598241\n",
       "Rockhampton Regional Council       25.598235\n",
       "Sunshine Coast Regional Council    25.598240\n",
       "Toowoomba Regional Council         25.598237\n",
       "Townsville City Council            25.598239\n",
       "dtype: float64"
      ]
     },
     "execution_count": 106,
     "metadata": {},
     "output_type": "execute_result"
    }
   ],
   "source": [
    "sub[\"2024-25 GPG\\nentitlement\"]/sub[\"In year\\npopulation\"]"
   ]
  },
  {
   "cell_type": "code",
   "execution_count": 108,
   "id": "3e715ad5",
   "metadata": {},
   "outputs": [],
   "source": [
    "minimum_gpg_per_capita = 25.5982\n",
    "gpg_grant_pool = qld[\"2024-25 GPG\\nentitlement\"].sum()\n",
    "\n",
    "qld[\"minimum grant\"] = qld[\"In year\\npopulation\"] * minimum_gpg_per_capita\n",
    "minimum_gpg_grant_pool = qld[\"minimum grant\"].sum()\n",
    "\n",
    "qld[\"allocation\"] = qld[\"2024-25 GPG\\nentitlement\"] - qld[\"minimum grant\"]"
   ]
  },
  {
   "cell_type": "code",
   "execution_count": 109,
   "id": "6b926246",
   "metadata": {},
   "outputs": [],
   "source": [
    "qld[\"scaled\"] = qld[\"allocation\"] / (gpg_grant_pool - minimum_gpg_grant_pool)"
   ]
  },
  {
   "cell_type": "code",
   "execution_count": null,
   "id": "37b270ac",
   "metadata": {},
   "outputs": [],
   "source": []
  }
 ],
 "metadata": {
  "kernelspec": {
   "display_name": "fagrants",
   "language": "python",
   "name": "python3"
  },
  "language_info": {
   "codemirror_mode": {
    "name": "ipython",
    "version": 3
   },
   "file_extension": ".py",
   "mimetype": "text/x-python",
   "name": "python",
   "nbconvert_exporter": "python",
   "pygments_lexer": "ipython3",
   "version": "3.13.3"
  }
 },
 "nbformat": 4,
 "nbformat_minor": 5
}
