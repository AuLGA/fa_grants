{
 "cells": [
  {
   "cell_type": "code",
   "execution_count": 1,
   "id": "f04ad380",
   "metadata": {},
   "outputs": [],
   "source": [
    "import pandas as pd\n",
    "import numpy as np\n",
    "\n",
    "pd.options.mode.chained_assignment = None"
   ]
  },
  {
   "cell_type": "code",
   "execution_count": 7,
   "id": "1ce8467a",
   "metadata": {},
   "outputs": [],
   "source": [
    "grp = pd.read_excel(\"../Data/Experimental GDP Modelling.xlsx\", sheet_name=\"GRP\", nrows=16)\n",
    "grp = grp[['state', 'GCCSA_code', 'GCCSA_name', 'GRP 2015-16 ', 'GRP 2016-17',\n",
    "       'GRP 2017-18', 'GRP 2018-19', 'GRP 2019-20', 'GRP 2020-21']]"
   ]
  },
  {
   "cell_type": "code",
   "execution_count": null,
   "id": "9406bf3f",
   "metadata": {},
   "outputs": [],
   "source": []
  },
  {
   "cell_type": "code",
   "execution_count": 6,
   "id": "50669101",
   "metadata": {},
   "outputs": [
    {
     "data": {
      "text/plain": [
       "Index(['state', 'GCCSA_code', 'GCCSA_name', 'GRP 2015-16 ', 'GRP 2016-17',\n",
       "       'GRP 2017-18', 'GRP 2018-19', 'GRP 2019-20', 'GRP 2020-21',\n",
       "       'Nominal GRP, Average annual change 2015-16 to 2020-21 (%)',\n",
       "       'Real GRP, Average annual change 2015-16 to 2020-21 (%)(Real 21-22)'],\n",
       "      dtype='object')"
      ]
     },
     "execution_count": null,
     "metadata": {},
     "output_type": "execute_result"
    }
   ],
   "source": [
    "grp.columns"
   ]
  },
  {
   "cell_type": "code",
   "execution_count": null,
   "id": "192833dd",
   "metadata": {},
   "outputs": [],
   "source": []
  },
  {
   "cell_type": "code",
   "execution_count": null,
   "id": "8d600c4d",
   "metadata": {},
   "outputs": [],
   "source": []
  }
 ],
 "metadata": {
  "language_info": {
   "name": "python"
  }
 },
 "nbformat": 4,
 "nbformat_minor": 5
}
