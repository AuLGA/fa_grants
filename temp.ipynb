{
 "cells": [
  {
   "cell_type": "code",
   "execution_count": 5,
   "id": "97b1d236",
   "metadata": {},
   "outputs": [],
   "source": [
    "dict1 = {\"NSW_methodology.qmd\" : \"# New South Wales Methodology\",\n",
    "        \"VIC_methodology.qmd\" : \"# Victoria Methodology\",\n",
    "        \"QLD_methodology.qmd\" : \"# Queensland Methodology\",\n",
    "        \"SA_methodology.qmd\" : \"# South Australia Methodology\",\n",
    "        \"WA_methodology.qmd\" : \"# Western Australia Methodology\",\n",
    "        \"TAS_methodology.qmd\" : \"# Tasmania Methodology\",\n",
    "        \"NT_methodology.qmd\" : \"# Northern Territory Methodology\",\n",
    "    \"discussed-issues.qmd\" : \"# Discussed Issues\",\n",
    "    \"methodology-detailed.qmd\" : \"# Detailed Methodology\",\n",
    "    \"methodology-simplified.qmd\" : \"# Simplified Methodology\",\n",
    "    \"lower_min_grant.qmd\" : \"# Lower Minimum Grant Scenario\",}"
   ]
  },
  {
   "cell_type": "code",
   "execution_count": 6,
   "id": "4683d8f3",
   "metadata": {},
   "outputs": [],
   "source": [
    "for file, title in dict1.items():\n",
    "    with open(file, 'w') as f:\n",
    "        f.write(f\"{title}\\n\\nThis is the content for {title}.\")"
   ]
  },
  {
   "cell_type": "code",
   "execution_count": null,
   "id": "2815ff81",
   "metadata": {},
   "outputs": [],
   "source": []
  }
 ],
 "metadata": {
  "kernelspec": {
   "display_name": "fagrants",
   "language": "python",
   "name": "python3"
  },
  "language_info": {
   "codemirror_mode": {
    "name": "ipython",
    "version": 3
   },
   "file_extension": ".py",
   "mimetype": "text/x-python",
   "name": "python",
   "nbconvert_exporter": "python",
   "pygments_lexer": "ipython3",
   "version": "3.11.13"
  }
 },
 "nbformat": 4,
 "nbformat_minor": 5
}
